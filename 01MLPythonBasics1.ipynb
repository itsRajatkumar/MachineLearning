{
  "nbformat": 4,
  "nbformat_minor": 0,
  "metadata": {
    "colab": {
      "name": "01MLPythonBasics1.ipynb",
      "provenance": [],
      "collapsed_sections": [],
      "authorship_tag": "ABX9TyMRnInq6a/tBOx0Qx/oA87N",
      "include_colab_link": true
    },
    "kernelspec": {
      "name": "python3",
      "display_name": "Python 3"
    },
    "language_info": {
      "name": "python"
    }
  },
  "cells": [
    {
      "cell_type": "markdown",
      "metadata": {
        "id": "view-in-github",
        "colab_type": "text"
      },
      "source": [
        "<a href=\"https://colab.research.google.com/github/itsRajatkumar/MachineLearning/blob/main/01MLPythonBasics1.ipynb\" target=\"_parent\"><img src=\"https://colab.research.google.com/assets/colab-badge.svg\" alt=\"Open In Colab\"/></a>"
      ]
    },
    {
      "cell_type": "markdown",
      "metadata": {
        "id": "ZLPKyHrJnAfh"
      },
      "source": [
        "<h1> Python Basics"
      ]
    },
    {
      "cell_type": "markdown",
      "metadata": {
        "id": "ITEPQFD-E9dl"
      },
      "source": [
        "basic operation\n"
      ]
    },
    {
      "cell_type": "code",
      "metadata": {
        "id": "CkSGIv__GFu4",
        "colab": {
          "base_uri": "https://localhost:8080/"
        },
        "outputId": "50f2b48c-9488-4674-9b7b-777b2ce2a9ae"
      },
      "source": [
        "def sum(a=0,b=0,c=0):\n",
        "    return a+b+c\n",
        "\n",
        "s1=sum(4,8,6)\n",
        "print(s1)\n",
        "s1=sum(4,8)\n",
        "print(s1)\n",
        "s1=sum(4)\n",
        "print(s1)\n",
        "s1=sum(c=44)\n",
        "print(s1)"
      ],
      "execution_count": 26,
      "outputs": [
        {
          "output_type": "stream",
          "name": "stdout",
          "text": [
            "18\n",
            "12\n",
            "4\n",
            "44\n"
          ]
        }
      ]
    },
    {
      "cell_type": "code",
      "metadata": {
        "id": "a7eLt7lSGvR8",
        "colab": {
          "base_uri": "https://localhost:8080/"
        },
        "outputId": "e6c19300-ed13-4ff9-b625-ed792270dfa4"
      },
      "source": [
        "def sum2(a,b,*more):\n",
        "    ans=a+b\n",
        "    for i in more:\n",
        "        ans+=i\n",
        "    return ans\n",
        "\n",
        "s=sum2(45,8,9,6,5,3,5,2,4,5,8,5,8)\n",
        "print(s)"
      ],
      "execution_count": 27,
      "outputs": [
        {
          "output_type": "stream",
          "name": "stdout",
          "text": [
            "113\n"
          ]
        }
      ]
    },
    {
      "cell_type": "code",
      "metadata": {
        "id": "hZZtYx-3HmOh",
        "colab": {
          "base_uri": "https://localhost:8080/"
        },
        "outputId": "0c67143c-8b28-4518-cada-fc91eeefd05c"
      },
      "source": [
        "def func(a,b):\n",
        "    return a+b,a-b,a*b,a/b,a%b\n",
        "\n",
        "a1,a2,a3,a4,a5=func(45,85)\n",
        "ans=func(45,85)\n",
        "print(ans)\n",
        "print(a1)\n",
        "print(a2)\n",
        "print(a3)\n",
        "print(a4)\n",
        "print(a5)"
      ],
      "execution_count": 28,
      "outputs": [
        {
          "output_type": "stream",
          "name": "stdout",
          "text": [
            "(130, -40, 3825, 0.5294117647058824, 45)\n",
            "130\n",
            "-40\n",
            "3825\n",
            "0.5294117647058824\n",
            "45\n"
          ]
        }
      ]
    },
    {
      "cell_type": "code",
      "metadata": {
        "id": "inkjXouDKkoK",
        "colab": {
          "base_uri": "https://localhost:8080/"
        },
        "outputId": "fac15f79-3e7d-41fc-869b-74c89509982d"
      },
      "source": [
        "a=[i for i in range(1,11,3) ]\n",
        "print(a)"
      ],
      "execution_count": 29,
      "outputs": [
        {
          "output_type": "stream",
          "name": "stdout",
          "text": [
            "[1, 4, 7, 10]\n"
          ]
        }
      ]
    },
    {
      "cell_type": "code",
      "metadata": {
        "id": "uvKuEJ3tK_JI",
        "colab": {
          "base_uri": "https://localhost:8080/"
        },
        "outputId": "581be1d3-1a27-4987-e5f0-8ecbd2897ade"
      },
      "source": [
        "print(a[2])"
      ],
      "execution_count": 30,
      "outputs": [
        {
          "output_type": "stream",
          "name": "stdout",
          "text": [
            "7\n"
          ]
        }
      ]
    },
    {
      "cell_type": "markdown",
      "metadata": {
        "id": "EtS6joOCZFrc"
      },
      "source": [
        "String"
      ]
    },
    {
      "cell_type": "code",
      "metadata": {
        "colab": {
          "base_uri": "https://localhost:8080/"
        },
        "id": "fBOTq59jLLY7",
        "outputId": "22893583-ccd5-4148-87e8-be2a9522cf74"
      },
      "source": [
        "string=\"a b c d e f \"\n",
        "s=string.strip().split(\" \")\n",
        "print(s)\n",
        "l=[int(i) for i in input().strip().split(\" \")]\n",
        "print(l)\n"
      ],
      "execution_count": 31,
      "outputs": [
        {
          "output_type": "stream",
          "name": "stdout",
          "text": [
            "['a', 'b', 'c', 'd', 'e', 'f']\n",
            "1\n",
            "[1]\n"
          ]
        }
      ]
    },
    {
      "cell_type": "markdown",
      "metadata": {
        "id": "fRrpneaCZJk-"
      },
      "source": [
        "List Operation"
      ]
    },
    {
      "cell_type": "code",
      "metadata": {
        "id": "dkSoxYYINkCo",
        "colab": {
          "base_uri": "https://localhost:8080/"
        },
        "outputId": "2201cf90-6cd1-47ad-e84f-3c101a524f33"
      },
      "source": [
        "l=[8,9,5,7,5,6,2,3,5,4,8,9]\n",
        "print(l)\n",
        "\n",
        "l.append(10)\n",
        "print(l)\n",
        "\n",
        "l.insert(0,45)\n",
        "print(l)\n",
        "\n",
        "l.pop()\n",
        "print(l)\n",
        "\n",
        "l.pop(7)\n",
        "print(l)\n",
        "\n",
        "l.remove(6)\n",
        "print(l)\n",
        "\n",
        "del l[0]\n",
        "print(l)\n",
        "\n",
        "del l[2:5]\n",
        "print(l)"
      ],
      "execution_count": 32,
      "outputs": [
        {
          "output_type": "stream",
          "name": "stdout",
          "text": [
            "[8, 9, 5, 7, 5, 6, 2, 3, 5, 4, 8, 9]\n",
            "[8, 9, 5, 7, 5, 6, 2, 3, 5, 4, 8, 9, 10]\n",
            "[45, 8, 9, 5, 7, 5, 6, 2, 3, 5, 4, 8, 9, 10]\n",
            "[45, 8, 9, 5, 7, 5, 6, 2, 3, 5, 4, 8, 9]\n",
            "[45, 8, 9, 5, 7, 5, 6, 3, 5, 4, 8, 9]\n",
            "[45, 8, 9, 5, 7, 5, 3, 5, 4, 8, 9]\n",
            "[8, 9, 5, 7, 5, 3, 5, 4, 8, 9]\n",
            "[8, 9, 3, 5, 4, 8, 9]\n"
          ]
        }
      ]
    },
    {
      "cell_type": "code",
      "metadata": {
        "id": "77kTZFa3O5om",
        "colab": {
          "base_uri": "https://localhost:8080/"
        },
        "outputId": "2bdcb057-f0ab-40a2-b8fe-e230ff01ee06"
      },
      "source": [
        "l=[8,9,5,7,5,6,2,3,5,4,8,9]\n",
        "print(l)\n",
        "l.reverse()\n",
        "print(l)\n",
        "\n",
        "l.sort()\n",
        "print(l)\n",
        "\n",
        "print(l.count(5))\n",
        "\n",
        "print(l.index(8))\n",
        "\n",
        "a= 48 in l\n",
        "print(a)\n"
      ],
      "execution_count": 33,
      "outputs": [
        {
          "output_type": "stream",
          "name": "stdout",
          "text": [
            "[8, 9, 5, 7, 5, 6, 2, 3, 5, 4, 8, 9]\n",
            "[9, 8, 4, 5, 3, 2, 6, 5, 7, 5, 9, 8]\n",
            "[2, 3, 4, 5, 5, 5, 6, 7, 8, 8, 9, 9]\n",
            "3\n",
            "8\n",
            "False\n"
          ]
        }
      ]
    },
    {
      "cell_type": "markdown",
      "metadata": {
        "id": "kS29PvZCZP3e"
      },
      "source": [
        "Bubble sort"
      ]
    },
    {
      "cell_type": "code",
      "metadata": {
        "id": "a2B4AGnDPzhL",
        "colab": {
          "base_uri": "https://localhost:8080/"
        },
        "outputId": "4ac7cabe-81c5-4972-bae4-4a2d771a824f"
      },
      "source": [
        "l=[int(i) for i in input().strip().split(\" \")]\n",
        "n=len(l)\n",
        "for j in range(n-1):\n",
        "    for i in range(0,n-1-j):\n",
        "        if( l[i] > l[i+1]):\n",
        "            temp=l[i]\n",
        "            l[i]=l[i+1]\n",
        "            l[i+1]=temp\n",
        "\n",
        "print(l)"
      ],
      "execution_count": 34,
      "outputs": [
        {
          "output_type": "stream",
          "name": "stdout",
          "text": [
            "3 5 7 5 34 2 4 66 24 2\n",
            "[2, 2, 3, 4, 5, 5, 7, 24, 34, 66]\n"
          ]
        }
      ]
    },
    {
      "cell_type": "markdown",
      "metadata": {
        "id": "_UjC3EB2ZVNJ"
      },
      "source": [
        "Dictionary"
      ]
    },
    {
      "cell_type": "code",
      "metadata": {
        "id": "kZG44-soRq7m",
        "colab": {
          "base_uri": "https://localhost:8080/"
        },
        "outputId": "38b41c52-379f-437d-c607-3f7e90219ce5"
      },
      "source": [
        "d={}\n",
        "d1={}\n",
        "print(d==d1)\n",
        "d['a']=34\n",
        "print(d)\n",
        "\n",
        "d[4]=38\n",
        "print(d)\n",
        "\n",
        "d['d']=85\n",
        "print(d)\n",
        "\n",
        "d['b']=65\n",
        "print(d)\n",
        "\n",
        "for i in d:\n",
        "    print(i,end=\":\")\n",
        "    print(d[i])\n",
        "\n",
        "del d[4]\n",
        "print(d)\n",
        "print(d==d1)\n",
        "print('a' in d)\n"
      ],
      "execution_count": 35,
      "outputs": [
        {
          "output_type": "stream",
          "name": "stdout",
          "text": [
            "True\n",
            "{'a': 34}\n",
            "{'a': 34, 4: 38}\n",
            "{'a': 34, 4: 38, 'd': 85}\n",
            "{'a': 34, 4: 38, 'd': 85, 'b': 65}\n",
            "a:34\n",
            "4:38\n",
            "d:85\n",
            "b:65\n",
            "{'a': 34, 'd': 85, 'b': 65}\n",
            "False\n",
            "True\n"
          ]
        }
      ]
    },
    {
      "cell_type": "markdown",
      "metadata": {
        "id": "s3aIcrHWZdoK"
      },
      "source": [
        "2D List"
      ]
    },
    {
      "cell_type": "code",
      "metadata": {
        "id": "ezagLYWeU3lZ",
        "colab": {
          "base_uri": "https://localhost:8080/"
        },
        "outputId": "0dc7814d-6070-4e52-be41-75255898863d"
      },
      "source": [
        "l=[[2,4,5],[5,7,8],[9,8,7]]\n",
        "print(l)\n",
        "\n",
        "print(l[0])\n",
        "\n",
        "print(l[0][1])\n",
        "\n",
        "l1=[[i for i in range(5)] for j in range(5)]\n",
        "print(l1)\n",
        "\n",
        "str=input(\"Enter Size of Array: \").strip().split(\"*\")\n",
        "n=int(str[0])\n",
        "m=int(str[1])\n",
        "\n",
        "l=[int(i) for i in input().strip().split(\" \")]\n",
        "out=[]\n",
        "for i in range(n):\n",
        "    out.append([])\n",
        "    for j in range(m):\n",
        "        out[i].append(l[i*m+j])\n",
        "\n",
        "print(out)"
      ],
      "execution_count": 36,
      "outputs": [
        {
          "output_type": "stream",
          "name": "stdout",
          "text": [
            "[[2, 4, 5], [5, 7, 8], [9, 8, 7]]\n",
            "[2, 4, 5]\n",
            "4\n",
            "[[0, 1, 2, 3, 4], [0, 1, 2, 3, 4], [0, 1, 2, 3, 4], [0, 1, 2, 3, 4], [0, 1, 2, 3, 4]]\n",
            "Enter Size of Array: 3*3\n",
            "1 2 3 4 5 6 7 8 9\n",
            "[[1, 2, 3], [4, 5, 6], [7, 8, 9]]\n"
          ]
        }
      ]
    },
    {
      "cell_type": "markdown",
      "metadata": {
        "id": "xIsQYYANZiZL"
      },
      "source": [
        "Wave Printing"
      ]
    },
    {
      "cell_type": "code",
      "metadata": {
        "colab": {
          "base_uri": "https://localhost:8080/"
        },
        "id": "A0P9djwrX3Et",
        "outputId": "e6d98199-fc3a-4ab5-8426-0bb62b732f11"
      },
      "source": [
        "n=len(out)\n",
        "m=len(out[0])\n",
        "for j in range(m):\n",
        "    if j%2==0 :\n",
        "        for i in range(n):\n",
        "            print(out[i][j],end=(\" \"))\n",
        "    else:\n",
        "        for i in range(n-1,-1,-1):\n",
        "            print(out[i][j],end=(\" \"))"
      ],
      "execution_count": 37,
      "outputs": [
        {
          "output_type": "stream",
          "name": "stdout",
          "text": [
            "1 4 7 8 5 2 3 6 9 "
          ]
        }
      ]
    },
    {
      "cell_type": "markdown",
      "metadata": {
        "id": "pxoieOQAZm3K"
      },
      "source": [
        "Numpy Module\n"
      ]
    },
    {
      "cell_type": "code",
      "metadata": {
        "colab": {
          "base_uri": "https://localhost:8080/"
        },
        "id": "eurtiUzIZrhu",
        "outputId": "b87dc6e5-32b8-4447-c5e7-9adea30944e5"
      },
      "source": [
        "import numpy as np\n",
        "import math\n",
        "l=np.array([1,2,3,4,5])\n",
        "print(l)\n",
        "print(l.dtype)"
      ],
      "execution_count": 38,
      "outputs": [
        {
          "output_type": "stream",
          "name": "stdout",
          "text": [
            "[1 2 3 4 5]\n",
            "int64\n"
          ]
        }
      ]
    },
    {
      "cell_type": "markdown",
      "metadata": {
        "id": "9-0-B7c9acXf"
      },
      "source": [
        "NP Zeros And Once Module"
      ]
    },
    {
      "cell_type": "code",
      "metadata": {
        "colab": {
          "base_uri": "https://localhost:8080/"
        },
        "id": "0_bF_GzBadFs",
        "outputId": "0819ae5f-612f-49bd-f939-21f62648e6f1"
      },
      "source": [
        "arr1=np.zeros(9)\n",
        "arr2=np.ones(9,int)\n",
        "\n",
        "print(arr1)\n",
        "print(arr2)"
      ],
      "execution_count": 39,
      "outputs": [
        {
          "output_type": "stream",
          "name": "stdout",
          "text": [
            "[0. 0. 0. 0. 0. 0. 0. 0. 0.]\n",
            "[1 1 1 1 1 1 1 1 1]\n"
          ]
        }
      ]
    },
    {
      "cell_type": "markdown",
      "metadata": {
        "id": "0D1V8zuobP6b"
      },
      "source": [
        "Multi dimantional arrays"
      ]
    },
    {
      "cell_type": "code",
      "metadata": {
        "colab": {
          "base_uri": "https://localhost:8080/"
        },
        "id": "8TwUVzjJbUbl",
        "outputId": "f86dbf2c-034b-4d7f-f749-dd6edc96a51a"
      },
      "source": [
        "# 2D Arrays\n",
        "arr3=np.zeros((3,3))\n",
        "arr4=np.ones((3,3))\n",
        "\n",
        "print(arr3)\n",
        "print()\n",
        "print()\n",
        "print()\n",
        "print(arr4)\n",
        "\n",
        "print()\n",
        "print()\n",
        "print()\n",
        "\n",
        "# 3D Arrays\n",
        "arr5=np.zeros((3,3,2))\n",
        "arr6=np.ones((3,3,2))\n",
        "\n",
        "print(arr5)\n",
        "print()\n",
        "print()\n",
        "print()\n",
        "print(arr6)\n",
        "\n",
        "print(arr1.shape)\n",
        "print(arr2.shape)\n",
        "print(arr3.shape)\n",
        "print(arr4.shape)\n",
        "print(arr5.shape)\n",
        "print(arr6.shape)"
      ],
      "execution_count": 40,
      "outputs": [
        {
          "output_type": "stream",
          "name": "stdout",
          "text": [
            "[[0. 0. 0.]\n",
            " [0. 0. 0.]\n",
            " [0. 0. 0.]]\n",
            "\n",
            "\n",
            "\n",
            "[[1. 1. 1.]\n",
            " [1. 1. 1.]\n",
            " [1. 1. 1.]]\n",
            "\n",
            "\n",
            "\n",
            "[[[0. 0.]\n",
            "  [0. 0.]\n",
            "  [0. 0.]]\n",
            "\n",
            " [[0. 0.]\n",
            "  [0. 0.]\n",
            "  [0. 0.]]\n",
            "\n",
            " [[0. 0.]\n",
            "  [0. 0.]\n",
            "  [0. 0.]]]\n",
            "\n",
            "\n",
            "\n",
            "[[[1. 1.]\n",
            "  [1. 1.]\n",
            "  [1. 1.]]\n",
            "\n",
            " [[1. 1.]\n",
            "  [1. 1.]\n",
            "  [1. 1.]]\n",
            "\n",
            " [[1. 1.]\n",
            "  [1. 1.]\n",
            "  [1. 1.]]]\n",
            "(9,)\n",
            "(9,)\n",
            "(3, 3)\n",
            "(3, 3)\n",
            "(3, 3, 2)\n",
            "(3, 3, 2)\n"
          ]
        }
      ]
    },
    {
      "cell_type": "markdown",
      "metadata": {
        "id": "nLOB4GB-cutT"
      },
      "source": [
        "Numpy Operation"
      ]
    },
    {
      "cell_type": "code",
      "metadata": {
        "colab": {
          "base_uri": "https://localhost:8080/"
        },
        "id": "D8zOKO2ocxo_",
        "outputId": "c2aec8f4-e3e8-4e50-faee-9b3016bd0b80"
      },
      "source": [
        "a=np.array([2,4,6])\n",
        "b=np.array([1,3,5])\n",
        "\n",
        "print(a+2)\n",
        "print(a)\n",
        "print(a*2)\n",
        "print()\n",
        "print(b+2)\n",
        "print(b)\n",
        "print(b*2)\n",
        "\n",
        "print()\n",
        "print(a.mean())\n",
        "print(b.mean())\n",
        "\n",
        "print()\n",
        "print(a.sum())\n",
        "print(b.sum())"
      ],
      "execution_count": 41,
      "outputs": [
        {
          "output_type": "stream",
          "name": "stdout",
          "text": [
            "[4 6 8]\n",
            "[2 4 6]\n",
            "[ 4  8 12]\n",
            "\n",
            "[3 5 7]\n",
            "[1 3 5]\n",
            "[ 2  6 10]\n",
            "\n",
            "4.0\n",
            "3.0\n",
            "\n",
            "12\n",
            "9\n"
          ]
        }
      ]
    },
    {
      "cell_type": "markdown",
      "metadata": {
        "id": "W9T-Ukvwd0ZL"
      },
      "source": [
        "Sqrt( (x1-x2)^2+(y1-y2)^2)\n"
      ]
    },
    {
      "cell_type": "code",
      "metadata": {
        "colab": {
          "base_uri": "https://localhost:8080/"
        },
        "id": "bR35Qxu7eLNI",
        "outputId": "bccfb3e4-15aa-431e-f51c-e017ac299ea4"
      },
      "source": [
        "a=np.array([1,2,3])\n",
        "b=np.array([4,5,6])\n",
        "d=((a-b)**2).sum()\n",
        "ans= math.sqrt(d)\n",
        "print(ans)"
      ],
      "execution_count": 42,
      "outputs": [
        {
          "output_type": "stream",
          "name": "stdout",
          "text": [
            "5.196152422706632\n"
          ]
        }
      ]
    },
    {
      "cell_type": "markdown",
      "metadata": {
        "id": "3m-Erw2ae7tl"
      },
      "source": [
        "E(Xi-Xmean)^2"
      ]
    },
    {
      "cell_type": "code",
      "metadata": {
        "colab": {
          "base_uri": "https://localhost:8080/"
        },
        "id": "J14eMdZxeJ0z",
        "outputId": "474e4141-ade8-4757-aa04-1fef6add1531"
      },
      "source": [
        "x=np.array([9,8,7,5,6,4,2,3,1])\n",
        "ans1=((x-x.mean())**2).sum()\n",
        "print(ans1)"
      ],
      "execution_count": 43,
      "outputs": [
        {
          "output_type": "stream",
          "name": "stdout",
          "text": [
            "60.0\n"
          ]
        }
      ]
    },
    {
      "cell_type": "markdown",
      "metadata": {
        "id": "UyWm6-9Vf9j1"
      },
      "source": [
        "Dot(.) Product of Vectors"
      ]
    },
    {
      "cell_type": "code",
      "metadata": {
        "colab": {
          "base_uri": "https://localhost:8080/"
        },
        "id": "jByUhLymfpVo",
        "outputId": "9000d112-78f7-4486-a0ad-cd9a7e85cc7f"
      },
      "source": [
        "a=np.array([1,2,3])\n",
        "b=np.array([4,5,6])\n",
        "ans2=a.dot(b)\n",
        "print(ans2)"
      ],
      "execution_count": 44,
      "outputs": [
        {
          "output_type": "stream",
          "name": "stdout",
          "text": [
            "32\n"
          ]
        }
      ]
    }
  ]
}