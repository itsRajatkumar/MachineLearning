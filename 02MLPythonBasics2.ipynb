{
  "nbformat": 4,
  "nbformat_minor": 0,
  "metadata": {
    "colab": {
      "name": "02MLPythonBasics2.ipynb",
      "provenance": [],
      "authorship_tag": "ABX9TyPuM3XFrcWKTxc5l5YuzdyB",
      "include_colab_link": true
    },
    "kernelspec": {
      "name": "python3",
      "display_name": "Python 3"
    },
    "language_info": {
      "name": "python"
    }
  },
  "cells": [
    {
      "cell_type": "markdown",
      "metadata": {
        "id": "view-in-github",
        "colab_type": "text"
      },
      "source": [
        "<a href=\"https://colab.research.google.com/github/itsRajatkumar/MachineLearning/blob/main/02MLPythonBasics2.ipynb\" target=\"_parent\"><img src=\"https://colab.research.google.com/assets/colab-badge.svg\" alt=\"Open In Colab\"/></a>"
      ]
    },
    {
      "cell_type": "markdown",
      "metadata": {
        "id": "EGi_Mz3rBlvU"
      },
      "source": [
        "<h1>Pandas Lib\n",
        "\n",
        "---\n",
        "Read Data\n"
      ]
    },
    {
      "cell_type": "code",
      "metadata": {
        "id": "CIxOpktkBky8"
      },
      "source": [
        "import pandas as pd\n",
        "import numpy as np\n",
        "\n",
        "df=pd.read_csv('https://support.spatialkey.com/wp-content/uploads/2021/02/Sacramentorealestatetransactions.csv')"
      ],
      "execution_count": 124,
      "outputs": []
    },
    {
      "cell_type": "markdown",
      "metadata": {
        "id": "DPdKPj-eCsXr"
      },
      "source": [
        "Copy Files"
      ]
    },
    {
      "cell_type": "code",
      "metadata": {
        "colab": {
          "base_uri": "https://localhost:8080/"
        },
        "id": "t_BiW2KRCvhJ",
        "outputId": "171a61b2-fb96-4f45-b48c-24437c62601b"
      },
      "source": [
        "cpy=df.copy()\n",
        "print(cpy)"
      ],
      "execution_count": 125,
      "outputs": [
        {
          "output_type": "stream",
          "name": "stdout",
          "text": [
            "                  street             city    zip  ...   price   latitude   longitude\n",
            "0           3526 HIGH ST       SACRAMENTO  95838  ...   59222  38.631913 -121.434879\n",
            "1            51 OMAHA CT       SACRAMENTO  95823  ...   68212  38.478902 -121.431028\n",
            "2         2796 BRANCH ST       SACRAMENTO  95815  ...   68880  38.618305 -121.443839\n",
            "3       2805 JANETTE WAY       SACRAMENTO  95815  ...   69307  38.616835 -121.439146\n",
            "4        6001 MCMAHON DR       SACRAMENTO  95824  ...   81900  38.519470 -121.435768\n",
            "..                   ...              ...    ...  ...     ...        ...         ...\n",
            "980   9169 GARLINGTON CT       SACRAMENTO  95829  ...  232425  38.457679 -121.359620\n",
            "981      6932 RUSKUT WAY       SACRAMENTO  95823  ...  234000  38.499893 -121.458890\n",
            "982    7933 DAFFODIL WAY   CITRUS HEIGHTS  95610  ...  235000  38.708824 -121.256803\n",
            "983     8304 RED FOX WAY        ELK GROVE  95758  ...  235301  38.417000 -121.397424\n",
            "984  3882 YELLOWSTONE LN  EL DORADO HILLS  95762  ...  235738  38.655245 -121.075915\n",
            "\n",
            "[985 rows x 12 columns]\n"
          ]
        }
      ]
    },
    {
      "cell_type": "markdown",
      "metadata": {
        "id": "-T0dhYc5DDV8"
      },
      "source": [
        "<h2>Display Data"
      ]
    },
    {
      "cell_type": "code",
      "metadata": {
        "colab": {
          "base_uri": "https://localhost:8080/"
        },
        "id": "SW9zW97RDDmD",
        "outputId": "c0968cf8-66a6-410d-fe0b-17ac387cd1da"
      },
      "source": [
        "print(df.head())        #by default 5 rows\n",
        "print(df.head(3))       # we can pass row value\n",
        "\n",
        "\n",
        "print(df.tail())        #by default 5 rows\n",
        "print(df.tail(4))        # we can pass row value"
      ],
      "execution_count": 126,
      "outputs": [
        {
          "output_type": "stream",
          "name": "stdout",
          "text": [
            "             street        city    zip  ...  price   latitude   longitude\n",
            "0      3526 HIGH ST  SACRAMENTO  95838  ...  59222  38.631913 -121.434879\n",
            "1       51 OMAHA CT  SACRAMENTO  95823  ...  68212  38.478902 -121.431028\n",
            "2    2796 BRANCH ST  SACRAMENTO  95815  ...  68880  38.618305 -121.443839\n",
            "3  2805 JANETTE WAY  SACRAMENTO  95815  ...  69307  38.616835 -121.439146\n",
            "4   6001 MCMAHON DR  SACRAMENTO  95824  ...  81900  38.519470 -121.435768\n",
            "\n",
            "[5 rows x 12 columns]\n",
            "           street        city    zip  ...  price   latitude   longitude\n",
            "0    3526 HIGH ST  SACRAMENTO  95838  ...  59222  38.631913 -121.434879\n",
            "1     51 OMAHA CT  SACRAMENTO  95823  ...  68212  38.478902 -121.431028\n",
            "2  2796 BRANCH ST  SACRAMENTO  95815  ...  68880  38.618305 -121.443839\n",
            "\n",
            "[3 rows x 12 columns]\n",
            "                  street             city    zip  ...   price   latitude   longitude\n",
            "980   9169 GARLINGTON CT       SACRAMENTO  95829  ...  232425  38.457679 -121.359620\n",
            "981      6932 RUSKUT WAY       SACRAMENTO  95823  ...  234000  38.499893 -121.458890\n",
            "982    7933 DAFFODIL WAY   CITRUS HEIGHTS  95610  ...  235000  38.708824 -121.256803\n",
            "983     8304 RED FOX WAY        ELK GROVE  95758  ...  235301  38.417000 -121.397424\n",
            "984  3882 YELLOWSTONE LN  EL DORADO HILLS  95762  ...  235738  38.655245 -121.075915\n",
            "\n",
            "[5 rows x 12 columns]\n",
            "                  street             city    zip  ...   price   latitude   longitude\n",
            "981      6932 RUSKUT WAY       SACRAMENTO  95823  ...  234000  38.499893 -121.458890\n",
            "982    7933 DAFFODIL WAY   CITRUS HEIGHTS  95610  ...  235000  38.708824 -121.256803\n",
            "983     8304 RED FOX WAY        ELK GROVE  95758  ...  235301  38.417000 -121.397424\n",
            "984  3882 YELLOWSTONE LN  EL DORADO HILLS  95762  ...  235738  38.655245 -121.075915\n",
            "\n",
            "[4 rows x 12 columns]\n"
          ]
        }
      ]
    },
    {
      "cell_type": "markdown",
      "metadata": {
        "id": "P59hWvRMELdo"
      },
      "source": [
        "Shape of Data"
      ]
    },
    {
      "cell_type": "code",
      "metadata": {
        "colab": {
          "base_uri": "https://localhost:8080/"
        },
        "id": "dmBRUkF0EFHq",
        "outputId": "d06e156f-608e-4af1-b59e-f2b1075b69cb"
      },
      "source": [
        "print(df.shape)"
      ],
      "execution_count": 127,
      "outputs": [
        {
          "output_type": "stream",
          "name": "stdout",
          "text": [
            "(985, 12)\n"
          ]
        }
      ]
    },
    {
      "cell_type": "code",
      "metadata": {
        "colab": {
          "base_uri": "https://localhost:8080/"
        },
        "id": "pNfBGmBvERm-",
        "outputId": "9f7af267-9530-40e2-9947-63562c0e98c5"
      },
      "source": [
        "print(df.dtypes)\n",
        "\n",
        "print(df.columns)"
      ],
      "execution_count": 128,
      "outputs": [
        {
          "output_type": "stream",
          "name": "stdout",
          "text": [
            "street        object\n",
            "city          object\n",
            "zip            int64\n",
            "state         object\n",
            "beds           int64\n",
            "baths          int64\n",
            "sq__ft         int64\n",
            "type          object\n",
            "sale_date     object\n",
            "price          int64\n",
            "latitude     float64\n",
            "longitude    float64\n",
            "dtype: object\n",
            "Index(['street', 'city', 'zip', 'state', 'beds', 'baths', 'sq__ft', 'type',\n",
            "       'sale_date', 'price', 'latitude', 'longitude'],\n",
            "      dtype='object')\n"
          ]
        }
      ]
    },
    {
      "cell_type": "markdown",
      "metadata": {
        "id": "vFHDs6QfFOQm"
      },
      "source": [
        "Describe Data"
      ]
    },
    {
      "cell_type": "code",
      "metadata": {
        "colab": {
          "base_uri": "https://localhost:8080/"
        },
        "id": "RMgBUO9pFNXe",
        "outputId": "056ca9d6-e765-446a-db34-ea7748b4ba49"
      },
      "source": [
        "\n",
        "print(df.describe())"
      ],
      "execution_count": 129,
      "outputs": [
        {
          "output_type": "stream",
          "name": "stdout",
          "text": [
            "                zip        beds  ...    latitude   longitude\n",
            "count    985.000000  985.000000  ...  985.000000  985.000000\n",
            "mean   95750.697462    2.911675  ...   38.607732 -121.355982\n",
            "std       85.176072    1.307932  ...    0.145433    0.138278\n",
            "min    95603.000000    0.000000  ...   38.241514 -121.551704\n",
            "25%    95660.000000    2.000000  ...   38.482717 -121.446127\n",
            "50%    95762.000000    3.000000  ...   38.626582 -121.376220\n",
            "75%    95828.000000    4.000000  ...   38.695589 -121.295778\n",
            "max    95864.000000    8.000000  ...   39.020808 -120.597599\n",
            "\n",
            "[8 rows x 7 columns]\n"
          ]
        }
      ]
    },
    {
      "cell_type": "markdown",
      "metadata": {
        "id": "Jto412IOFZBr"
      },
      "source": [
        "Changing Column Header"
      ]
    },
    {
      "cell_type": "code",
      "metadata": {
        "colab": {
          "base_uri": "https://localhost:8080/"
        },
        "id": "hkNsLX5qFZQC",
        "outputId": "b3174287-6de0-43b7-b34c-1c7231766950"
      },
      "source": [
        "df.columns =['Street', 'City', 'Zip', 'State', 'Beds', 'Baths', 'Sq__ft', 'Type','Sale_date', 'Price', 'Latitude', 'Longitude']\n",
        "print(df.head())"
      ],
      "execution_count": 130,
      "outputs": [
        {
          "output_type": "stream",
          "name": "stdout",
          "text": [
            "             Street        City    Zip  ...  Price   Latitude   Longitude\n",
            "0      3526 HIGH ST  SACRAMENTO  95838  ...  59222  38.631913 -121.434879\n",
            "1       51 OMAHA CT  SACRAMENTO  95823  ...  68212  38.478902 -121.431028\n",
            "2    2796 BRANCH ST  SACRAMENTO  95815  ...  68880  38.618305 -121.443839\n",
            "3  2805 JANETTE WAY  SACRAMENTO  95815  ...  69307  38.616835 -121.439146\n",
            "4   6001 MCMAHON DR  SACRAMENTO  95824  ...  81900  38.519470 -121.435768\n",
            "\n",
            "[5 rows x 12 columns]\n"
          ]
        }
      ]
    },
    {
      "cell_type": "code",
      "metadata": {
        "colab": {
          "base_uri": "https://localhost:8080/"
        },
        "id": "aoaII1zTGVVy",
        "outputId": "380c239e-e49f-4922-c981-640c8cbb6b7b"
      },
      "source": [
        "print(df.City)"
      ],
      "execution_count": 131,
      "outputs": [
        {
          "output_type": "stream",
          "name": "stdout",
          "text": [
            "0           SACRAMENTO\n",
            "1           SACRAMENTO\n",
            "2           SACRAMENTO\n",
            "3           SACRAMENTO\n",
            "4           SACRAMENTO\n",
            "            ...       \n",
            "980         SACRAMENTO\n",
            "981         SACRAMENTO\n",
            "982     CITRUS HEIGHTS\n",
            "983          ELK GROVE\n",
            "984    EL DORADO HILLS\n",
            "Name: City, Length: 985, dtype: object\n"
          ]
        }
      ]
    },
    {
      "cell_type": "markdown",
      "metadata": {
        "id": "QLmO4gG2Ge_M"
      },
      "source": [
        "Null Values"
      ]
    },
    {
      "cell_type": "code",
      "metadata": {
        "colab": {
          "base_uri": "https://localhost:8080/"
        },
        "id": "I8owmLm1GfdU",
        "outputId": "84044d56-6e6e-45bd-9bfa-1deb93f4cf5d"
      },
      "source": [
        "print(df.isnull())\n",
        "\n",
        "print(df.isnull().sum())"
      ],
      "execution_count": 132,
      "outputs": [
        {
          "output_type": "stream",
          "name": "stdout",
          "text": [
            "     Street   City    Zip  State  ...  Sale_date  Price  Latitude  Longitude\n",
            "0     False  False  False  False  ...      False  False     False      False\n",
            "1     False  False  False  False  ...      False  False     False      False\n",
            "2     False  False  False  False  ...      False  False     False      False\n",
            "3     False  False  False  False  ...      False  False     False      False\n",
            "4     False  False  False  False  ...      False  False     False      False\n",
            "..      ...    ...    ...    ...  ...        ...    ...       ...        ...\n",
            "980   False  False  False  False  ...      False  False     False      False\n",
            "981   False  False  False  False  ...      False  False     False      False\n",
            "982   False  False  False  False  ...      False  False     False      False\n",
            "983   False  False  False  False  ...      False  False     False      False\n",
            "984   False  False  False  False  ...      False  False     False      False\n",
            "\n",
            "[985 rows x 12 columns]\n",
            "Street       0\n",
            "City         0\n",
            "Zip          0\n",
            "State        0\n",
            "Beds         0\n",
            "Baths        0\n",
            "Sq__ft       0\n",
            "Type         0\n",
            "Sale_date    0\n",
            "Price        0\n",
            "Latitude     0\n",
            "Longitude    0\n",
            "dtype: int64\n"
          ]
        }
      ]
    },
    {
      "cell_type": "markdown",
      "metadata": {
        "id": "Od3i-na8HiAy"
      },
      "source": [
        "Sliced Part Of Dataframe"
      ]
    },
    {
      "cell_type": "code",
      "metadata": {
        "colab": {
          "base_uri": "https://localhost:8080/"
        },
        "id": "8X5OsBclHpkl",
        "outputId": "1edcf5af-fbe5-46b8-b45e-db3d95ff0a19"
      },
      "source": [
        "slcprt=df.iloc[2:6,4:9]\n",
        "print(slcprt)"
      ],
      "execution_count": 133,
      "outputs": [
        {
          "output_type": "stream",
          "name": "stdout",
          "text": [
            "   Beds  Baths  Sq__ft         Type                     Sale_date\n",
            "2     2      1     796  Residential  Wed May 21 00:00:00 EDT 2008\n",
            "3     2      1     852  Residential  Wed May 21 00:00:00 EDT 2008\n",
            "4     2      1     797  Residential  Wed May 21 00:00:00 EDT 2008\n",
            "5     3      1    1122        Condo  Wed May 21 00:00:00 EDT 2008\n"
          ]
        }
      ]
    },
    {
      "cell_type": "markdown",
      "metadata": {
        "id": "U4xnzEt0IPgV"
      },
      "source": [
        "<h1>Data Manupulation"
      ]
    },
    {
      "cell_type": "code",
      "metadata": {
        "colab": {
          "base_uri": "https://localhost:8080/"
        },
        "id": "jL6QB9ahITda",
        "outputId": "296cc35c-c33f-42f0-8ab3-b0902dd20f30"
      },
      "source": [
        "a=df.drop(0)\n",
        "print(a)\n",
        "print(df)"
      ],
      "execution_count": 134,
      "outputs": [
        {
          "output_type": "stream",
          "name": "stdout",
          "text": [
            "                  Street             City    Zip  ...   Price   Latitude   Longitude\n",
            "1            51 OMAHA CT       SACRAMENTO  95823  ...   68212  38.478902 -121.431028\n",
            "2         2796 BRANCH ST       SACRAMENTO  95815  ...   68880  38.618305 -121.443839\n",
            "3       2805 JANETTE WAY       SACRAMENTO  95815  ...   69307  38.616835 -121.439146\n",
            "4        6001 MCMAHON DR       SACRAMENTO  95824  ...   81900  38.519470 -121.435768\n",
            "5     5828 PEPPERMILL CT       SACRAMENTO  95841  ...   89921  38.662595 -121.327813\n",
            "..                   ...              ...    ...  ...     ...        ...         ...\n",
            "980   9169 GARLINGTON CT       SACRAMENTO  95829  ...  232425  38.457679 -121.359620\n",
            "981      6932 RUSKUT WAY       SACRAMENTO  95823  ...  234000  38.499893 -121.458890\n",
            "982    7933 DAFFODIL WAY   CITRUS HEIGHTS  95610  ...  235000  38.708824 -121.256803\n",
            "983     8304 RED FOX WAY        ELK GROVE  95758  ...  235301  38.417000 -121.397424\n",
            "984  3882 YELLOWSTONE LN  EL DORADO HILLS  95762  ...  235738  38.655245 -121.075915\n",
            "\n",
            "[984 rows x 12 columns]\n",
            "                  Street             City    Zip  ...   Price   Latitude   Longitude\n",
            "0           3526 HIGH ST       SACRAMENTO  95838  ...   59222  38.631913 -121.434879\n",
            "1            51 OMAHA CT       SACRAMENTO  95823  ...   68212  38.478902 -121.431028\n",
            "2         2796 BRANCH ST       SACRAMENTO  95815  ...   68880  38.618305 -121.443839\n",
            "3       2805 JANETTE WAY       SACRAMENTO  95815  ...   69307  38.616835 -121.439146\n",
            "4        6001 MCMAHON DR       SACRAMENTO  95824  ...   81900  38.519470 -121.435768\n",
            "..                   ...              ...    ...  ...     ...        ...         ...\n",
            "980   9169 GARLINGTON CT       SACRAMENTO  95829  ...  232425  38.457679 -121.359620\n",
            "981      6932 RUSKUT WAY       SACRAMENTO  95823  ...  234000  38.499893 -121.458890\n",
            "982    7933 DAFFODIL WAY   CITRUS HEIGHTS  95610  ...  235000  38.708824 -121.256803\n",
            "983     8304 RED FOX WAY        ELK GROVE  95758  ...  235301  38.417000 -121.397424\n",
            "984  3882 YELLOWSTONE LN  EL DORADO HILLS  95762  ...  235738  38.655245 -121.075915\n",
            "\n",
            "[985 rows x 12 columns]\n"
          ]
        }
      ]
    },
    {
      "cell_type": "markdown",
      "metadata": {
        "id": "nKARhxw_ImcQ"
      },
      "source": [
        "Data Manupulation in MAin File"
      ]
    },
    {
      "cell_type": "code",
      "metadata": {
        "colab": {
          "base_uri": "https://localhost:8080/"
        },
        "id": "Vu_muYXYIt41",
        "outputId": "39c9308e-112c-4392-f69b-c7c93a2755ec"
      },
      "source": [
        "df.drop(5, inplace=True)\n",
        "print(df)\n",
        "\n",
        "df.drop(df.index[0] , inplace=True)\n",
        "print(df)"
      ],
      "execution_count": 135,
      "outputs": [
        {
          "output_type": "stream",
          "name": "stdout",
          "text": [
            "                  Street             City    Zip  ...   Price   Latitude   Longitude\n",
            "0           3526 HIGH ST       SACRAMENTO  95838  ...   59222  38.631913 -121.434879\n",
            "1            51 OMAHA CT       SACRAMENTO  95823  ...   68212  38.478902 -121.431028\n",
            "2         2796 BRANCH ST       SACRAMENTO  95815  ...   68880  38.618305 -121.443839\n",
            "3       2805 JANETTE WAY       SACRAMENTO  95815  ...   69307  38.616835 -121.439146\n",
            "4        6001 MCMAHON DR       SACRAMENTO  95824  ...   81900  38.519470 -121.435768\n",
            "..                   ...              ...    ...  ...     ...        ...         ...\n",
            "980   9169 GARLINGTON CT       SACRAMENTO  95829  ...  232425  38.457679 -121.359620\n",
            "981      6932 RUSKUT WAY       SACRAMENTO  95823  ...  234000  38.499893 -121.458890\n",
            "982    7933 DAFFODIL WAY   CITRUS HEIGHTS  95610  ...  235000  38.708824 -121.256803\n",
            "983     8304 RED FOX WAY        ELK GROVE  95758  ...  235301  38.417000 -121.397424\n",
            "984  3882 YELLOWSTONE LN  EL DORADO HILLS  95762  ...  235738  38.655245 -121.075915\n",
            "\n",
            "[984 rows x 12 columns]\n",
            "                  Street             City    Zip  ...   Price   Latitude   Longitude\n",
            "1            51 OMAHA CT       SACRAMENTO  95823  ...   68212  38.478902 -121.431028\n",
            "2         2796 BRANCH ST       SACRAMENTO  95815  ...   68880  38.618305 -121.443839\n",
            "3       2805 JANETTE WAY       SACRAMENTO  95815  ...   69307  38.616835 -121.439146\n",
            "4        6001 MCMAHON DR       SACRAMENTO  95824  ...   81900  38.519470 -121.435768\n",
            "6    6048 OGDEN NASH WAY       SACRAMENTO  95842  ...   90895  38.681659 -121.351705\n",
            "..                   ...              ...    ...  ...     ...        ...         ...\n",
            "980   9169 GARLINGTON CT       SACRAMENTO  95829  ...  232425  38.457679 -121.359620\n",
            "981      6932 RUSKUT WAY       SACRAMENTO  95823  ...  234000  38.499893 -121.458890\n",
            "982    7933 DAFFODIL WAY   CITRUS HEIGHTS  95610  ...  235000  38.708824 -121.256803\n",
            "983     8304 RED FOX WAY        ELK GROVE  95758  ...  235301  38.417000 -121.397424\n",
            "984  3882 YELLOWSTONE LN  EL DORADO HILLS  95762  ...  235738  38.655245 -121.075915\n",
            "\n",
            "[983 rows x 12 columns]\n"
          ]
        }
      ]
    },
    {
      "cell_type": "markdown",
      "metadata": {
        "id": "O_0EJQncJLts"
      },
      "source": [
        "Index"
      ]
    },
    {
      "cell_type": "code",
      "metadata": {
        "colab": {
          "base_uri": "https://localhost:8080/"
        },
        "id": "9VyTIneOJPsp",
        "outputId": "3f410e40-6c08-4549-828d-604d83e9d1fe"
      },
      "source": [
        "print(df.index)\n",
        "\n",
        "\n",
        "print(df.index[45])"
      ],
      "execution_count": 136,
      "outputs": [
        {
          "output_type": "stream",
          "name": "stdout",
          "text": [
            "Int64Index([  1,   2,   3,   4,   6,   7,   8,   9,  10,  11,\n",
            "            ...\n",
            "            975, 976, 977, 978, 979, 980, 981, 982, 983, 984],\n",
            "           dtype='int64', length=983)\n",
            "47\n"
          ]
        }
      ]
    },
    {
      "cell_type": "code",
      "metadata": {
        "colab": {
          "base_uri": "https://localhost:8080/"
        },
        "id": "husnd4nvKRzA",
        "outputId": "602a349c-f9aa-4b1a-bab2-175c4bc4d35d"
      },
      "source": [
        "print(df.Zip>95800)\n",
        "print(df[df.Zip>95800])"
      ],
      "execution_count": 137,
      "outputs": [
        {
          "output_type": "stream",
          "name": "stdout",
          "text": [
            "1       True\n",
            "2       True\n",
            "3       True\n",
            "4       True\n",
            "6       True\n",
            "       ...  \n",
            "980     True\n",
            "981     True\n",
            "982    False\n",
            "983    False\n",
            "984    False\n",
            "Name: Zip, Length: 983, dtype: bool\n",
            "                   Street        City    Zip  ...   Price   Latitude   Longitude\n",
            "1             51 OMAHA CT  SACRAMENTO  95823  ...   68212  38.478902 -121.431028\n",
            "2          2796 BRANCH ST  SACRAMENTO  95815  ...   68880  38.618305 -121.443839\n",
            "3        2805 JANETTE WAY  SACRAMENTO  95815  ...   69307  38.616835 -121.439146\n",
            "4         6001 MCMAHON DR  SACRAMENTO  95824  ...   81900  38.519470 -121.435768\n",
            "6     6048 OGDEN NASH WAY  SACRAMENTO  95842  ...   90895  38.681659 -121.351705\n",
            "..                    ...         ...    ...  ...     ...        ...         ...\n",
            "971  3528 SAINT GEORGE DR  SACRAMENTO  95821  ...  224000  38.629468 -121.376445\n",
            "977       5 BISHOPGATE CT  SACRAMENTO  95823  ...  229500  38.467936 -121.445477\n",
            "978      5601 REXLEIGH DR  SACRAMENTO  95823  ...  230000  38.445342 -121.441504\n",
            "980    9169 GARLINGTON CT  SACRAMENTO  95829  ...  232425  38.457679 -121.359620\n",
            "981       6932 RUSKUT WAY  SACRAMENTO  95823  ...  234000  38.499893 -121.458890\n",
            "\n",
            "[470 rows x 12 columns]\n"
          ]
        }
      ]
    },
    {
      "cell_type": "code",
      "metadata": {
        "colab": {
          "base_uri": "https://localhost:8080/"
        },
        "id": "uJDM7HWYKtkl",
        "outputId": "2b36c301-a9aa-40f3-b591-192e03c8ae33"
      },
      "source": [
        "print(df[df.City=='SACRAMENTO'])\n",
        "\n",
        "\n",
        "print((df[df.City=='SACRAMENTO']).describe())"
      ],
      "execution_count": 138,
      "outputs": [
        {
          "output_type": "stream",
          "name": "stdout",
          "text": [
            "                   Street        City    Zip  ...   Price   Latitude   Longitude\n",
            "1             51 OMAHA CT  SACRAMENTO  95823  ...   68212  38.478902 -121.431028\n",
            "2          2796 BRANCH ST  SACRAMENTO  95815  ...   68880  38.618305 -121.443839\n",
            "3        2805 JANETTE WAY  SACRAMENTO  95815  ...   69307  38.616835 -121.439146\n",
            "4         6001 MCMAHON DR  SACRAMENTO  95824  ...   81900  38.519470 -121.435768\n",
            "6     6048 OGDEN NASH WAY  SACRAMENTO  95842  ...   90895  38.681659 -121.351705\n",
            "..                    ...         ...    ...  ...     ...        ...         ...\n",
            "971  3528 SAINT GEORGE DR  SACRAMENTO  95821  ...  224000  38.629468 -121.376445\n",
            "977       5 BISHOPGATE CT  SACRAMENTO  95823  ...  229500  38.467936 -121.445477\n",
            "978      5601 REXLEIGH DR  SACRAMENTO  95823  ...  230000  38.445342 -121.441504\n",
            "980    9169 GARLINGTON CT  SACRAMENTO  95829  ...  232425  38.457679 -121.359620\n",
            "981       6932 RUSKUT WAY  SACRAMENTO  95823  ...  234000  38.499893 -121.458890\n",
            "\n",
            "[437 rows x 12 columns]\n",
            "                Zip        Beds  ...    Latitude   Longitude\n",
            "count    437.000000  437.000000  ...  437.000000  437.000000\n",
            "mean   95828.361556    3.029748  ...   38.561778 -121.443341\n",
            "std        8.287671    1.027839  ...    0.078079    0.057349\n",
            "min    95811.000000    0.000000  ...   38.440040 -121.551704\n",
            "25%    95823.000000    3.000000  ...   38.484030 -121.487289\n",
            "50%    95828.000000    3.000000  ...   38.555781 -121.445371\n",
            "75%    95834.000000    4.000000  ...   38.635232 -121.408288\n",
            "max    95864.000000    8.000000  ...   38.700051 -121.309243\n",
            "\n",
            "[8 rows x 7 columns]\n"
          ]
        }
      ]
    },
    {
      "cell_type": "markdown",
      "metadata": {
        "id": "oKjO6u3LOJ6t"
      },
      "source": [
        "Loc And Iloc"
      ]
    },
    {
      "cell_type": "code",
      "metadata": {
        "colab": {
          "base_uri": "https://localhost:8080/"
        },
        "id": "NLx1wGUKONVd",
        "outputId": "4a66a8cc-02a2-4c47-c508-dea8626c4802"
      },
      "source": [
        "print(df.loc[45])\n",
        "print(df.iloc[45])"
      ],
      "execution_count": 139,
      "outputs": [
        {
          "output_type": "stream",
          "name": "stdout",
          "text": [
            "Street                       2622 ERIN DR\n",
            "City                           SACRAMENTO\n",
            "Zip                                 95833\n",
            "State                                  CA\n",
            "Beds                                    4\n",
            "Baths                                   1\n",
            "Sq__ft                               1120\n",
            "Type                          Residential\n",
            "Sale_date    Wed May 21 00:00:00 EDT 2008\n",
            "Price                              164000\n",
            "Latitude                          38.6138\n",
            "Longitude                        -121.489\n",
            "Name: 45, dtype: object\n",
            "Street                     7420 ALIX PKWY\n",
            "City                           SACRAMENTO\n",
            "Zip                                 95823\n",
            "State                                  CA\n",
            "Beds                                    4\n",
            "Baths                                   1\n",
            "Sq__ft                               1955\n",
            "Type                          Residential\n",
            "Sale_date    Wed May 21 00:00:00 EDT 2008\n",
            "Price                              166357\n",
            "Latitude                          38.4894\n",
            "Longitude                        -121.453\n",
            "Name: 47, dtype: object\n"
          ]
        }
      ]
    },
    {
      "cell_type": "markdown",
      "metadata": {
        "id": "wp_N0qGFOjFx"
      },
      "source": [
        "Adding Row Into DataFrame"
      ]
    },
    {
      "cell_type": "code",
      "metadata": {
        "id": "f03LxZg7OrPh"
      },
      "source": [
        "df.loc[0]=['Central Area','Udaipur',313001,'Rajsthan',8,3,5000,'Residential','Wed May 21 00:00:00 EDT 2008',205455,23.45,-344.898]"
      ],
      "execution_count": 140,
      "outputs": []
    },
    {
      "cell_type": "code",
      "metadata": {
        "colab": {
          "base_uri": "https://localhost:8080/"
        },
        "id": "41h-13a3PhVf",
        "outputId": "b361e2c8-934e-4f41-89d7-9025622615d7"
      },
      "source": [
        "print(df.tail())"
      ],
      "execution_count": 141,
      "outputs": [
        {
          "output_type": "stream",
          "name": "stdout",
          "text": [
            "                  Street             City  ...   Latitude   Longitude\n",
            "981      6932 RUSKUT WAY       SACRAMENTO  ...  38.499893 -121.458890\n",
            "982    7933 DAFFODIL WAY   CITRUS HEIGHTS  ...  38.708824 -121.256803\n",
            "983     8304 RED FOX WAY        ELK GROVE  ...  38.417000 -121.397424\n",
            "984  3882 YELLOWSTONE LN  EL DORADO HILLS  ...  38.655245 -121.075915\n",
            "0           Central Area          Udaipur  ...  23.450000 -344.898000\n",
            "\n",
            "[5 rows x 12 columns]\n"
          ]
        }
      ]
    },
    {
      "cell_type": "markdown",
      "metadata": {
        "id": "jU1EWTS-PpxK"
      },
      "source": [
        "Reset Indexing"
      ]
    },
    {
      "cell_type": "code",
      "metadata": {
        "colab": {
          "base_uri": "https://localhost:8080/"
        },
        "id": "l_tWs4TgPo4M",
        "outputId": "9f8d2174-88b4-4284-cc0c-f32f0000da2e"
      },
      "source": [
        "df.reset_index()\n",
        "\n",
        "df.reset_index(drop=True)\n",
        "print(df)\n",
        "\n",
        "df.reset_index(drop=True,inplace=True)\n",
        "print(df)"
      ],
      "execution_count": 142,
      "outputs": [
        {
          "output_type": "stream",
          "name": "stdout",
          "text": [
            "                  Street             City  ...   Latitude   Longitude\n",
            "1            51 OMAHA CT       SACRAMENTO  ...  38.478902 -121.431028\n",
            "2         2796 BRANCH ST       SACRAMENTO  ...  38.618305 -121.443839\n",
            "3       2805 JANETTE WAY       SACRAMENTO  ...  38.616835 -121.439146\n",
            "4        6001 MCMAHON DR       SACRAMENTO  ...  38.519470 -121.435768\n",
            "6    6048 OGDEN NASH WAY       SACRAMENTO  ...  38.681659 -121.351705\n",
            "..                   ...              ...  ...        ...         ...\n",
            "981      6932 RUSKUT WAY       SACRAMENTO  ...  38.499893 -121.458890\n",
            "982    7933 DAFFODIL WAY   CITRUS HEIGHTS  ...  38.708824 -121.256803\n",
            "983     8304 RED FOX WAY        ELK GROVE  ...  38.417000 -121.397424\n",
            "984  3882 YELLOWSTONE LN  EL DORADO HILLS  ...  38.655245 -121.075915\n",
            "0           Central Area          Udaipur  ...  23.450000 -344.898000\n",
            "\n",
            "[984 rows x 12 columns]\n",
            "                  Street             City  ...   Latitude   Longitude\n",
            "0            51 OMAHA CT       SACRAMENTO  ...  38.478902 -121.431028\n",
            "1         2796 BRANCH ST       SACRAMENTO  ...  38.618305 -121.443839\n",
            "2       2805 JANETTE WAY       SACRAMENTO  ...  38.616835 -121.439146\n",
            "3        6001 MCMAHON DR       SACRAMENTO  ...  38.519470 -121.435768\n",
            "4    6048 OGDEN NASH WAY       SACRAMENTO  ...  38.681659 -121.351705\n",
            "..                   ...              ...  ...        ...         ...\n",
            "979      6932 RUSKUT WAY       SACRAMENTO  ...  38.499893 -121.458890\n",
            "980    7933 DAFFODIL WAY   CITRUS HEIGHTS  ...  38.708824 -121.256803\n",
            "981     8304 RED FOX WAY        ELK GROVE  ...  38.417000 -121.397424\n",
            "982  3882 YELLOWSTONE LN  EL DORADO HILLS  ...  38.655245 -121.075915\n",
            "983         Central Area          Udaipur  ...  23.450000 -344.898000\n",
            "\n",
            "[984 rows x 12 columns]\n"
          ]
        }
      ]
    },
    {
      "cell_type": "code",
      "metadata": {
        "colab": {
          "base_uri": "https://localhost:8080/"
        },
        "id": "wUC7hUUbQQsi",
        "outputId": "f6ce0e70-fe07-42b0-d012-7420417ea44a"
      },
      "source": [
        "df.index"
      ],
      "execution_count": 143,
      "outputs": [
        {
          "output_type": "execute_result",
          "data": {
            "text/plain": [
              "RangeIndex(start=0, stop=984, step=1)"
            ]
          },
          "metadata": {},
          "execution_count": 143
        }
      ]
    },
    {
      "cell_type": "markdown",
      "metadata": {
        "id": "1Bdd8glHQotD"
      },
      "source": [
        "Manupuletting Column"
      ]
    },
    {
      "cell_type": "code",
      "metadata": {
        "colab": {
          "base_uri": "https://localhost:8080/"
        },
        "id": "wKAtxP7EQUzz",
        "outputId": "8acc6c25-3910-4184-fa51-86ca19cdc39f"
      },
      "source": [
        "df.drop('Longitude', axis=1 ,inplace=True)\n",
        "print(df)\n"
      ],
      "execution_count": 144,
      "outputs": [
        {
          "output_type": "stream",
          "name": "stdout",
          "text": [
            "                  Street             City  ...   Price   Latitude\n",
            "0            51 OMAHA CT       SACRAMENTO  ...   68212  38.478902\n",
            "1         2796 BRANCH ST       SACRAMENTO  ...   68880  38.618305\n",
            "2       2805 JANETTE WAY       SACRAMENTO  ...   69307  38.616835\n",
            "3        6001 MCMAHON DR       SACRAMENTO  ...   81900  38.519470\n",
            "4    6048 OGDEN NASH WAY       SACRAMENTO  ...   90895  38.681659\n",
            "..                   ...              ...  ...     ...        ...\n",
            "979      6932 RUSKUT WAY       SACRAMENTO  ...  234000  38.499893\n",
            "980    7933 DAFFODIL WAY   CITRUS HEIGHTS  ...  235000  38.708824\n",
            "981     8304 RED FOX WAY        ELK GROVE  ...  235301  38.417000\n",
            "982  3882 YELLOWSTONE LN  EL DORADO HILLS  ...  235738  38.655245\n",
            "983         Central Area          Udaipur  ...  205455  23.450000\n",
            "\n",
            "[984 rows x 11 columns]\n"
          ]
        }
      ]
    },
    {
      "cell_type": "code",
      "metadata": {
        "colab": {
          "base_uri": "https://localhost:8080/"
        },
        "id": "ZqK5_LvWRjuF",
        "outputId": "3d6be0c8-3400-47b5-93b7-c81fd9599c8d"
      },
      "source": [
        "\n",
        "del df[\"Latitude\"]\n",
        "print(df)"
      ],
      "execution_count": 145,
      "outputs": [
        {
          "output_type": "stream",
          "name": "stdout",
          "text": [
            "                  Street             City  ...                     Sale_date   Price\n",
            "0            51 OMAHA CT       SACRAMENTO  ...  Wed May 21 00:00:00 EDT 2008   68212\n",
            "1         2796 BRANCH ST       SACRAMENTO  ...  Wed May 21 00:00:00 EDT 2008   68880\n",
            "2       2805 JANETTE WAY       SACRAMENTO  ...  Wed May 21 00:00:00 EDT 2008   69307\n",
            "3        6001 MCMAHON DR       SACRAMENTO  ...  Wed May 21 00:00:00 EDT 2008   81900\n",
            "4    6048 OGDEN NASH WAY       SACRAMENTO  ...  Wed May 21 00:00:00 EDT 2008   90895\n",
            "..                   ...              ...  ...                           ...     ...\n",
            "979      6932 RUSKUT WAY       SACRAMENTO  ...  Thu May 15 00:00:00 EDT 2008  234000\n",
            "980    7933 DAFFODIL WAY   CITRUS HEIGHTS  ...  Thu May 15 00:00:00 EDT 2008  235000\n",
            "981     8304 RED FOX WAY        ELK GROVE  ...  Thu May 15 00:00:00 EDT 2008  235301\n",
            "982  3882 YELLOWSTONE LN  EL DORADO HILLS  ...  Thu May 15 00:00:00 EDT 2008  235738\n",
            "983         Central Area          Udaipur  ...  Wed May 21 00:00:00 EDT 2008  205455\n",
            "\n",
            "[984 rows x 10 columns]\n"
          ]
        }
      ]
    },
    {
      "cell_type": "markdown",
      "metadata": {
        "id": "KPw2BH6HRn3B"
      },
      "source": [
        "<h1>Handling NaN Values"
      ]
    },
    {
      "cell_type": "code",
      "metadata": {
        "colab": {
          "base_uri": "https://localhost:8080/"
        },
        "id": "Uco3L4ZyRs2t",
        "outputId": "0dc3e91e-2b2b-499d-9858-61174744624c"
      },
      "source": [
        "#firstly we create sum nan values because we dont have any nan values.\n",
        "df.iloc[2:6,1:4]= np.nan\n",
        "print(df.head)"
      ],
      "execution_count": 146,
      "outputs": [
        {
          "output_type": "stream",
          "name": "stdout",
          "text": [
            "<bound method NDFrame.head of                   Street             City  ...                     Sale_date   Price\n",
            "0            51 OMAHA CT       SACRAMENTO  ...  Wed May 21 00:00:00 EDT 2008   68212\n",
            "1         2796 BRANCH ST       SACRAMENTO  ...  Wed May 21 00:00:00 EDT 2008   68880\n",
            "2       2805 JANETTE WAY              NaN  ...  Wed May 21 00:00:00 EDT 2008   69307\n",
            "3        6001 MCMAHON DR              NaN  ...  Wed May 21 00:00:00 EDT 2008   81900\n",
            "4    6048 OGDEN NASH WAY              NaN  ...  Wed May 21 00:00:00 EDT 2008   90895\n",
            "..                   ...              ...  ...                           ...     ...\n",
            "979      6932 RUSKUT WAY       SACRAMENTO  ...  Thu May 15 00:00:00 EDT 2008  234000\n",
            "980    7933 DAFFODIL WAY   CITRUS HEIGHTS  ...  Thu May 15 00:00:00 EDT 2008  235000\n",
            "981     8304 RED FOX WAY        ELK GROVE  ...  Thu May 15 00:00:00 EDT 2008  235301\n",
            "982  3882 YELLOWSTONE LN  EL DORADO HILLS  ...  Thu May 15 00:00:00 EDT 2008  235738\n",
            "983         Central Area          Udaipur  ...  Wed May 21 00:00:00 EDT 2008  205455\n",
            "\n",
            "[984 rows x 10 columns]>\n"
          ]
        }
      ]
    },
    {
      "cell_type": "code",
      "metadata": {
        "colab": {
          "base_uri": "https://localhost:8080/"
        },
        "id": "bBBmauTrUgNg",
        "outputId": "ae83d08f-52da-4af6-9515-15b723313dbe"
      },
      "source": [
        "df.dropna(inplace=True)\n",
        "print(df)"
      ],
      "execution_count": 147,
      "outputs": [
        {
          "output_type": "stream",
          "name": "stdout",
          "text": [
            "                              Street  ...   Price\n",
            "0                        51 OMAHA CT  ...   68212\n",
            "1                     2796 BRANCH ST  ...   68880\n",
            "6    11150 TRINITY RIVER DR Unit 114  ...   94905\n",
            "7                       7325 10TH ST  ...   98937\n",
            "8                   645 MORRISON AVE  ...  100309\n",
            "..                               ...  ...     ...\n",
            "979                  6932 RUSKUT WAY  ...  234000\n",
            "980                7933 DAFFODIL WAY  ...  235000\n",
            "981                 8304 RED FOX WAY  ...  235301\n",
            "982              3882 YELLOWSTONE LN  ...  235738\n",
            "983                     Central Area  ...  205455\n",
            "\n",
            "[980 rows x 10 columns]\n"
          ]
        }
      ]
    },
    {
      "cell_type": "code",
      "metadata": {
        "colab": {
          "base_uri": "https://localhost:8080/"
        },
        "id": "YD-DhLkqUv14",
        "outputId": "68b5e2c1-d894-420b-c84a-cabd4b6d58cc"
      },
      "source": [
        "df.City.fillna('Udaipur',inplace=True)\n",
        "print(df.head())"
      ],
      "execution_count": 148,
      "outputs": [
        {
          "output_type": "stream",
          "name": "stdout",
          "text": [
            "                            Street  ...   Price\n",
            "0                      51 OMAHA CT  ...   68212\n",
            "1                   2796 BRANCH ST  ...   68880\n",
            "6  11150 TRINITY RIVER DR Unit 114  ...   94905\n",
            "7                     7325 10TH ST  ...   98937\n",
            "8                 645 MORRISON AVE  ...  100309\n",
            "\n",
            "[5 rows x 10 columns]\n"
          ]
        }
      ]
    },
    {
      "cell_type": "markdown",
      "metadata": {
        "id": "DNKdZnVpVpxr"
      },
      "source": [
        "Hendling Strings In Data"
      ]
    },
    {
      "cell_type": "code",
      "metadata": {
        "colab": {
          "base_uri": "https://localhost:8080/",
          "height": 204
        },
        "id": "BkzNlzXxVwY_",
        "outputId": "1660611a-8a73-49c3-eb3a-754213acfcb7"
      },
      "source": [
        "def f(s):\n",
        "    if s=='Residential' :\n",
        "        return 0\n",
        "    elif s=='Multi-Family':\n",
        "        return 1\n",
        "    else:\n",
        "        return 2\n",
        "\n",
        "\n",
        "df[\"Status\"]=df.Type.apply(f)\n",
        "df.head()"
      ],
      "execution_count": 149,
      "outputs": [
        {
          "output_type": "execute_result",
          "data": {
            "text/html": [
              "<div>\n",
              "<style scoped>\n",
              "    .dataframe tbody tr th:only-of-type {\n",
              "        vertical-align: middle;\n",
              "    }\n",
              "\n",
              "    .dataframe tbody tr th {\n",
              "        vertical-align: top;\n",
              "    }\n",
              "\n",
              "    .dataframe thead th {\n",
              "        text-align: right;\n",
              "    }\n",
              "</style>\n",
              "<table border=\"1\" class=\"dataframe\">\n",
              "  <thead>\n",
              "    <tr style=\"text-align: right;\">\n",
              "      <th></th>\n",
              "      <th>Street</th>\n",
              "      <th>City</th>\n",
              "      <th>Zip</th>\n",
              "      <th>State</th>\n",
              "      <th>Beds</th>\n",
              "      <th>Baths</th>\n",
              "      <th>Sq__ft</th>\n",
              "      <th>Type</th>\n",
              "      <th>Sale_date</th>\n",
              "      <th>Price</th>\n",
              "      <th>Status</th>\n",
              "    </tr>\n",
              "  </thead>\n",
              "  <tbody>\n",
              "    <tr>\n",
              "      <th>0</th>\n",
              "      <td>51 OMAHA CT</td>\n",
              "      <td>SACRAMENTO</td>\n",
              "      <td>95823.0</td>\n",
              "      <td>CA</td>\n",
              "      <td>3</td>\n",
              "      <td>1</td>\n",
              "      <td>1167</td>\n",
              "      <td>Residential</td>\n",
              "      <td>Wed May 21 00:00:00 EDT 2008</td>\n",
              "      <td>68212</td>\n",
              "      <td>0</td>\n",
              "    </tr>\n",
              "    <tr>\n",
              "      <th>1</th>\n",
              "      <td>2796 BRANCH ST</td>\n",
              "      <td>SACRAMENTO</td>\n",
              "      <td>95815.0</td>\n",
              "      <td>CA</td>\n",
              "      <td>2</td>\n",
              "      <td>1</td>\n",
              "      <td>796</td>\n",
              "      <td>Residential</td>\n",
              "      <td>Wed May 21 00:00:00 EDT 2008</td>\n",
              "      <td>68880</td>\n",
              "      <td>0</td>\n",
              "    </tr>\n",
              "    <tr>\n",
              "      <th>6</th>\n",
              "      <td>11150 TRINITY RIVER DR Unit 114</td>\n",
              "      <td>RANCHO CORDOVA</td>\n",
              "      <td>95670.0</td>\n",
              "      <td>CA</td>\n",
              "      <td>2</td>\n",
              "      <td>2</td>\n",
              "      <td>941</td>\n",
              "      <td>Condo</td>\n",
              "      <td>Wed May 21 00:00:00 EDT 2008</td>\n",
              "      <td>94905</td>\n",
              "      <td>2</td>\n",
              "    </tr>\n",
              "    <tr>\n",
              "      <th>7</th>\n",
              "      <td>7325 10TH ST</td>\n",
              "      <td>RIO LINDA</td>\n",
              "      <td>95673.0</td>\n",
              "      <td>CA</td>\n",
              "      <td>3</td>\n",
              "      <td>2</td>\n",
              "      <td>1146</td>\n",
              "      <td>Residential</td>\n",
              "      <td>Wed May 21 00:00:00 EDT 2008</td>\n",
              "      <td>98937</td>\n",
              "      <td>0</td>\n",
              "    </tr>\n",
              "    <tr>\n",
              "      <th>8</th>\n",
              "      <td>645 MORRISON AVE</td>\n",
              "      <td>SACRAMENTO</td>\n",
              "      <td>95838.0</td>\n",
              "      <td>CA</td>\n",
              "      <td>3</td>\n",
              "      <td>2</td>\n",
              "      <td>909</td>\n",
              "      <td>Residential</td>\n",
              "      <td>Wed May 21 00:00:00 EDT 2008</td>\n",
              "      <td>100309</td>\n",
              "      <td>0</td>\n",
              "    </tr>\n",
              "  </tbody>\n",
              "</table>\n",
              "</div>"
            ],
            "text/plain": [
              "                            Street            City  ...   Price Status\n",
              "0                      51 OMAHA CT      SACRAMENTO  ...   68212      0\n",
              "1                   2796 BRANCH ST      SACRAMENTO  ...   68880      0\n",
              "6  11150 TRINITY RIVER DR Unit 114  RANCHO CORDOVA  ...   94905      2\n",
              "7                     7325 10TH ST       RIO LINDA  ...   98937      0\n",
              "8                 645 MORRISON AVE      SACRAMENTO  ...  100309      0\n",
              "\n",
              "[5 rows x 11 columns]"
            ]
          },
          "metadata": {},
          "execution_count": 149
        }
      ]
    }
  ]
}