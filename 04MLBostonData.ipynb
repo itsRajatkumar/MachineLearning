{
  "nbformat": 4,
  "nbformat_minor": 0,
  "metadata": {
    "colab": {
      "name": "04MLBostonData.ipynb",
      "provenance": [],
      "collapsed_sections": [],
      "mount_file_id": "1rrdDHe63YzJ9920nrciSOfH-8pB_Fd1W",
      "authorship_tag": "ABX9TyNYpoEVMZIrCYCbNFJvvPYL",
      "include_colab_link": true
    },
    "kernelspec": {
      "name": "python3",
      "display_name": "Python 3"
    },
    "language_info": {
      "name": "python"
    }
  },
  "cells": [
    {
      "cell_type": "markdown",
      "metadata": {
        "id": "view-in-github",
        "colab_type": "text"
      },
      "source": [
        "<a href=\"https://colab.research.google.com/github/itsRajatkumar/MachineLearning/blob/main/04MLBostonData.ipynb\" target=\"_parent\"><img src=\"https://colab.research.google.com/assets/colab-badge.svg\" alt=\"Open In Colab\"/></a>"
      ]
    },
    {
      "cell_type": "markdown",
      "metadata": {
        "id": "vY_phM9Sp0yJ"
      },
      "source": [
        "<h1>Loading Boston Houses Data From SkLearn Library.\n",
        "\n",
        "sklearn has various Machine Learning Algorithms\n",
        "\n",
        "Boston Data set is preDefined In sklearn"
      ]
    },
    {
      "cell_type": "code",
      "metadata": {
        "id": "4Drfq5aFpoaf"
      },
      "source": [
        "from sklearn import datasets\n",
        "boston=datasets.load_boston()\n"
      ],
      "execution_count": 95,
      "outputs": []
    },
    {
      "cell_type": "markdown",
      "metadata": {
        "id": "WXDOLBNDrD6h"
      },
      "source": [
        "Putting Data In X and Y"
      ]
    },
    {
      "cell_type": "code",
      "metadata": {
        "colab": {
          "base_uri": "https://localhost:8080/"
        },
        "id": "62DzsO8IrJBm",
        "outputId": "85fc1596-ede2-441b-d759-a01ad2ceadeb"
      },
      "source": [
        "x=boston.data\n",
        "y=boston.target\n",
        "\n",
        "print(x.shape)\n",
        "print(y.shape)"
      ],
      "execution_count": 96,
      "outputs": [
        {
          "output_type": "stream",
          "name": "stdout",
          "text": [
            "(506, 13)\n",
            "(506,)\n"
          ]
        }
      ]
    },
    {
      "cell_type": "markdown",
      "metadata": {
        "id": "0HRVIcRarT1T"
      },
      "source": [
        "Creating Data Frame"
      ]
    },
    {
      "cell_type": "code",
      "metadata": {
        "colab": {
          "base_uri": "https://localhost:8080/"
        },
        "id": "KkfndSzDrZpD",
        "outputId": "e1d6701d-dadd-44ec-c965-8aa791de830d"
      },
      "source": [
        "import pandas as pd\n",
        "df=pd.DataFrame(x)\n",
        "print(df)"
      ],
      "execution_count": 97,
      "outputs": [
        {
          "output_type": "stream",
          "name": "stdout",
          "text": [
            "          0     1      2    3      4   ...   8      9     10      11    12\n",
            "0    0.00632  18.0   2.31  0.0  0.538  ...  1.0  296.0  15.3  396.90  4.98\n",
            "1    0.02731   0.0   7.07  0.0  0.469  ...  2.0  242.0  17.8  396.90  9.14\n",
            "2    0.02729   0.0   7.07  0.0  0.469  ...  2.0  242.0  17.8  392.83  4.03\n",
            "3    0.03237   0.0   2.18  0.0  0.458  ...  3.0  222.0  18.7  394.63  2.94\n",
            "4    0.06905   0.0   2.18  0.0  0.458  ...  3.0  222.0  18.7  396.90  5.33\n",
            "..       ...   ...    ...  ...    ...  ...  ...    ...   ...     ...   ...\n",
            "501  0.06263   0.0  11.93  0.0  0.573  ...  1.0  273.0  21.0  391.99  9.67\n",
            "502  0.04527   0.0  11.93  0.0  0.573  ...  1.0  273.0  21.0  396.90  9.08\n",
            "503  0.06076   0.0  11.93  0.0  0.573  ...  1.0  273.0  21.0  396.90  5.64\n",
            "504  0.10959   0.0  11.93  0.0  0.573  ...  1.0  273.0  21.0  393.45  6.48\n",
            "505  0.04741   0.0  11.93  0.0  0.573  ...  1.0  273.0  21.0  396.90  7.88\n",
            "\n",
            "[506 rows x 13 columns]\n"
          ]
        }
      ]
    },
    {
      "cell_type": "markdown",
      "metadata": {
        "id": "MEMaiWi5sbfO"
      },
      "source": [
        "Changing Header of Data Frame"
      ]
    },
    {
      "cell_type": "code",
      "metadata": {
        "colab": {
          "base_uri": "https://localhost:8080/"
        },
        "id": "pwhyfaxKsmBB",
        "outputId": "38835553-58bc-482a-e9a5-1840e46919fe"
      },
      "source": [
        "print(boston.feature_names) #Data Frame Header\n",
        "\n",
        "df.columns=boston.feature_names\n",
        "\n",
        "print(df.describe())"
      ],
      "execution_count": 98,
      "outputs": [
        {
          "output_type": "stream",
          "name": "stdout",
          "text": [
            "['CRIM' 'ZN' 'INDUS' 'CHAS' 'NOX' 'RM' 'AGE' 'DIS' 'RAD' 'TAX' 'PTRATIO'\n",
            " 'B' 'LSTAT']\n",
            "             CRIM          ZN       INDUS  ...     PTRATIO           B       LSTAT\n",
            "count  506.000000  506.000000  506.000000  ...  506.000000  506.000000  506.000000\n",
            "mean     3.613524   11.363636   11.136779  ...   18.455534  356.674032   12.653063\n",
            "std      8.601545   23.322453    6.860353  ...    2.164946   91.294864    7.141062\n",
            "min      0.006320    0.000000    0.460000  ...   12.600000    0.320000    1.730000\n",
            "25%      0.082045    0.000000    5.190000  ...   17.400000  375.377500    6.950000\n",
            "50%      0.256510    0.000000    9.690000  ...   19.050000  391.440000   11.360000\n",
            "75%      3.677083   12.500000   18.100000  ...   20.200000  396.225000   16.955000\n",
            "max     88.976200  100.000000   27.740000  ...   22.000000  396.900000   37.970000\n",
            "\n",
            "[8 rows x 13 columns]\n"
          ]
        }
      ]
    },
    {
      "cell_type": "markdown",
      "metadata": {
        "id": "npqkva28td8x"
      },
      "source": [
        "Creating Training and Testing Data sets from X and Y by sklearn model selection."
      ]
    },
    {
      "cell_type": "code",
      "metadata": {
        "id": "i4gIESH2t8Mf"
      },
      "source": [
        "from sklearn import model_selection\n",
        "x_train, x_test, y_train, y_test = model_selection.train_test_split(x,y)"
      ],
      "execution_count": 99,
      "outputs": []
    },
    {
      "cell_type": "markdown",
      "metadata": {
        "id": "eeYT3ZFSujgB"
      },
      "source": [
        "Importing Linear Regression and fit data to Algorithms"
      ]
    },
    {
      "cell_type": "code",
      "metadata": {
        "colab": {
          "base_uri": "https://localhost:8080/"
        },
        "id": "uR2HkOHDvDCr",
        "outputId": "a32506c5-8f55-4fff-8c5e-3bf0a74c890e"
      },
      "source": [
        "from sklearn.linear_model import LinearRegression\n",
        "\n",
        "algo = LinearRegression()\n",
        "algo.fit(x_train , y_train)"
      ],
      "execution_count": 100,
      "outputs": [
        {
          "output_type": "execute_result",
          "data": {
            "text/plain": [
              "LinearRegression(copy_X=True, fit_intercept=True, n_jobs=None, normalize=False)"
            ]
          },
          "metadata": {},
          "execution_count": 100
        }
      ]
    },
    {
      "cell_type": "markdown",
      "metadata": {
        "id": "m53hoQ0Kvz40"
      },
      "source": [
        "Giving Testing Data to algorithm to Predict the values"
      ]
    },
    {
      "cell_type": "code",
      "metadata": {
        "id": "AiVTOtjGwDXu"
      },
      "source": [
        "y_pred=algo.predict(x_test)"
      ],
      "execution_count": 101,
      "outputs": []
    },
    {
      "cell_type": "markdown",
      "metadata": {
        "id": "avoGewaBwRay"
      },
      "source": [
        "Compare the True and predicted values by Ploting Graphs"
      ]
    },
    {
      "cell_type": "code",
      "metadata": {
        "colab": {
          "base_uri": "https://localhost:8080/",
          "height": 265
        },
        "id": "8zaac400wlEV",
        "outputId": "f4fa0cca-1e65-47fb-9404-4924a1054fdc"
      },
      "source": [
        "import matplotlib.pyplot as plt\n",
        "plt.scatter(y_test,y_pred)\n",
        "plt.show()"
      ],
      "execution_count": 102,
      "outputs": [
        {
          "output_type": "display_data",
          "data": {
            "image/png": "[encoded data removed]",
            "text/plain": [
              "<Figure size 432x288 with 1 Axes>"
            ]
          },
          "metadata": {
            "needs_background": "light"
          }
        }
      ]
    },
    {
      "cell_type": "code",
      "metadata": {
        "colab": {
          "base_uri": "https://localhost:8080/"
        },
        "id": "38xjC1uO6rWa",
        "outputId": "dac7c017-de26-48c4-906e-77f52c959981"
      },
      "source": [
        "scoretest = algo.score(x_test,y_test)\n",
        "scoretrain = algo.score(x_train,y_train)\n",
        "\n",
        "print(scoretest)\n",
        "print(scoretrain)"
      ],
      "execution_count": 103,
      "outputs": [
        {
          "output_type": "stream",
          "name": "stdout",
          "text": [
            "0.7454410015020569\n",
            "0.7312867874250822\n"
          ]
        }
      ]
    },
    {
      "cell_type": "markdown",
      "metadata": {
        "id": "7TUWhBM4yF5Z"
      },
      "source": [
        "<h1>Testing Sample CSV File(Link Given Below)\n",
        "\n",
        "\n",
        "Click Here [Data.csv](https://drive.google.com/file/d/1EGK8hAt6VkTMB6qgaciyBsNVi4K29ify/view?usp=sharing)\n",
        "copy this file in notebook directory\n",
        " \n",
        "\n"
      ]
    },
    {
      "cell_type": "markdown",
      "metadata": {
        "id": "I56jZcxK0fmq"
      },
      "source": [
        "Reading CSV file"
      ]
    },
    {
      "cell_type": "code",
      "metadata": {
        "colab": {
          "base_uri": "https://localhost:8080/"
        },
        "id": "NnxvzbG0ysu6",
        "outputId": "ccc254f9-34db-4bf7-d405-61d8d87ce79c"
      },
      "source": [
        "import numpy as np\n",
        "data= np.loadtxt(\"data.csv\",delimiter=\",\")\n",
        "print(data.shape)"
      ],
      "execution_count": 104,
      "outputs": [
        {
          "output_type": "stream",
          "name": "stdout",
          "text": [
            "(100, 2)\n"
          ]
        }
      ]
    },
    {
      "cell_type": "markdown",
      "metadata": {
        "id": "5R7Odh8302vY"
      },
      "source": [
        "Putting Data into X and Y"
      ]
    },
    {
      "cell_type": "code",
      "metadata": {
        "colab": {
          "base_uri": "https://localhost:8080/"
        },
        "id": "le6s7Fl81Kmw",
        "outputId": "d3fa6a1d-3245-440d-ccb9-8250fccc7896"
      },
      "source": [
        "x1=data[:,0].reshape(-1,1)\n",
        "y1=data[:,1]\n",
        "\n",
        "print(x1.shape)\n",
        "print(y1.shape)"
      ],
      "execution_count": 105,
      "outputs": [
        {
          "output_type": "stream",
          "name": "stdout",
          "text": [
            "(100, 1)\n",
            "(100,)\n"
          ]
        }
      ]
    },
    {
      "cell_type": "markdown",
      "metadata": {
        "id": "WOhn0GQC1gzh"
      },
      "source": [
        "Creating Training and Testing Data sets from X and Y by sklearn model selection."
      ]
    },
    {
      "cell_type": "code",
      "metadata": {
        "id": "c36HMOhx10pD"
      },
      "source": [
        "from sklearn import model_selection\n",
        "x1_train, x1_test, y1_train, y1_test = model_selection.train_test_split(x1,y1)"
      ],
      "execution_count": 106,
      "outputs": []
    },
    {
      "cell_type": "markdown",
      "metadata": {
        "id": "_jGQlvvC2W-N"
      },
      "source": [
        "Fitting Data to Linear Regression Algorithm"
      ]
    },
    {
      "cell_type": "code",
      "metadata": {
        "colab": {
          "base_uri": "https://localhost:8080/"
        },
        "id": "Y4HyLFg22fY4",
        "outputId": "7f269720-4f34-4470-d80a-ab581493eb76"
      },
      "source": [
        "from sklearn.linear_model import LinearRegression\n",
        "algo1=LinearRegression()\n",
        "\n",
        "algo1.fit(x1_train,y1_train)"
      ],
      "execution_count": 107,
      "outputs": [
        {
          "output_type": "execute_result",
          "data": {
            "text/plain": [
              "LinearRegression(copy_X=True, fit_intercept=True, n_jobs=None, normalize=False)"
            ]
          },
          "metadata": {},
          "execution_count": 107
        }
      ]
    },
    {
      "cell_type": "markdown",
      "metadata": {
        "id": "M6ei4Yo929f4"
      },
      "source": [
        "Getting Coefficent and Intercept of Liner Equation"
      ]
    },
    {
      "cell_type": "code",
      "metadata": {
        "id": "bA2VIfzT3R3j"
      },
      "source": [
        "m=algo1.coef_[0]\n",
        "c=algo1.intercept_"
      ],
      "execution_count": 108,
      "outputs": []
    },
    {
      "cell_type": "markdown",
      "metadata": {
        "id": "zSEQAdEO3gJD"
      },
      "source": [
        "Plotting Graph of Line And Prediction"
      ]
    },
    {
      "cell_type": "code",
      "metadata": {
        "colab": {
          "base_uri": "https://localhost:8080/",
          "height": 268
        },
        "id": "3oSc7Fp83oDK",
        "outputId": "c2c0f648-866e-474c-abf2-950be64609ed"
      },
      "source": [
        "import matplotlib.pyplot as plt\n",
        "x1_line = np.arange(20,80,0.1)\n",
        "y1_line = m*x_line+c\n",
        "plt.plot(x1_line,y1_line,\"r\")\n",
        "\n",
        "train_id=x1_test.reshape(25)\n",
        "\n",
        "plt.scatter(train_id,y1_test)\n",
        "plt.show()"
      ],
      "execution_count": 109,
      "outputs": [
        {
          "output_type": "display_data",
          "data": {
            "image/png": "[encoded data removed]",
            "text/plain": [
              "<Figure size 432x288 with 1 Axes>"
            ]
          },
          "metadata": {
            "needs_background": "light"
          }
        }
      ]
    },
    {
      "cell_type": "markdown",
      "metadata": {
        "id": "OqDjAtAY5GIn"
      },
      "source": [
        "Checking Score Of Prediction"
      ]
    },
    {
      "cell_type": "code",
      "metadata": {
        "colab": {
          "base_uri": "https://localhost:8080/"
        },
        "id": "JGJF1SNj5M6M",
        "outputId": "8e7afeb2-2484-46c7-bf8c-6894459d0acd"
      },
      "source": [
        "score_test = algo1.score(x1_test,y1_test)\n",
        "score_train = algo1.score(x1_train,y1_train)\n",
        "\n",
        "print(score_test)\n",
        "print(score_train)"
      ],
      "execution_count": 110,
      "outputs": [
        {
          "output_type": "stream",
          "name": "stdout",
          "text": [
            "0.552394991248712\n",
            "0.6101054007211856\n"
          ]
        }
      ]
    }
  ]
}